{
 "cells": [
  {
   "cell_type": "code",
   "execution_count": 1,
   "metadata": {},
   "outputs": [],
   "source": [
    "import os"
   ]
  },
  {
   "cell_type": "code",
   "execution_count": 2,
   "metadata": {},
   "outputs": [],
   "source": [
    "def get_file_list(dir_name):\n",
    "    return os.listdir(dir_name)"
   ]
  },
  {
   "cell_type": "code",
   "execution_count": 3,
   "metadata": {
    "scrolled": true
   },
   "outputs": [
    {
     "data": {
      "text/plain": [
       "['3_SEUNG-HWAN OH SHUTS DOWN TWINS IN FIRST SPRING ACTION.txt',\n",
       " '1_MLB Team Interested In Dae-Ho Lee.txt',\n",
       " \"4_Twins' Park Byung-ho hits first big league triple.txt\",\n",
       " '7_Swansea City midfielder Ki Sung-Yueng will miss Crystal Palace clash.txt',\n",
       " '7_Premier League 2015-2016 Swansea City vs Manchester City, Preview, Prediction & Predicted Lineup.txt',\n",
       " '8_Heung Min Son gives Tottenham a two-goal advantage vs Chelsea.txt',\n",
       " \"5_Injured midfielder likely to miss nat'l team friendlies.txt\",\n",
       " '8_Has Heung Min Son Done Enough to Justify 22m Transfer.txt',\n",
       " '7_Sung-yueng In Team Of The Week.txt',\n",
       " '3_SEUNG-HWAN OH STRIKES OUT THE SIDE.txt',\n",
       " '3_Seung Hwan Oh Arrives Early To Cardinals Spring Training Camp.txt',\n",
       " \"8_South Korea coach has a warning for Tottenham Hotspur's Heung-min Son and fellow internationals, suggests they should consider exits.txt\",\n",
       " \"1_Seattle Mariners' Newest Signing Dae-Ho Lee Could Become Fan Favorite.txt\",\n",
       " '2_Ryu Hyun-jin Rejoins Dodgers After Surgery.txt',\n",
       " '8_South Korea are waiting to hear if Tottenham will clear Son Heung-min for the Olympics, according to the forward..txt',\n",
       " \"6_Mkhitaryan, Hummels perfect 10s in Dortmund's win at Gladbach.txt\",\n",
       " \"8_Heung Min Son doubles Tottenham's lead over Chelsea.txt\",\n",
       " '8_Heung min Son Believes Injury Tainted Debut at Tottenham.txt',\n",
       " '6_Borussia Dortmund sign Korea defender Park Joo-ho from Mainz.txt',\n",
       " \"4_Byung-Ho Park Won't Fix The Minnesota Twins.txt\",\n",
       " '7_Ki Sung-yueng Stretchered Off Pitch with Head Injury.txt',\n",
       " '6_International South Korean Joo Ho Park, is committed to Borussia Dortmund on Saturday..txt',\n",
       " \"4_Byung-ho Park's homers are the best thing about the Twins so far.txt\",\n",
       " '4_Twins’ Byung Ho Park Still Getting Accustomed To American Life.txt',\n",
       " '5_ S. Korea look well-positioned to qualify for 2018 World Cup.txt',\n",
       " '6_Thomas Tuchel mulls Park Joo-ho dilemma on Borussia Dortmund`s record run.txt',\n",
       " '1_Dae-Ho Lee walk-off homer gives Mariners 4-2 win over Rangers.txt',\n",
       " '7_Swansea City midfielder Ki Sung-Yueng wary of Arsenal threat.txt',\n",
       " '1_Korean First Baseman Dae-Ho Lee Becomes Free Agent, Interested In MLB Deal.txt',\n",
       " '4_Park remains on bench as Twins face Gonzalez and the Nats.txt',\n",
       " '5_South Korean Footballer Koo Ja Cheol Returns To Augsburg, Says He Has the ‘Feeling of Coming Home’.txt',\n",
       " '5_Korean Footballers in Europe Struggle for Match Time.txt',\n",
       " '5_S. Korean MF Koo Ja-cheol suspended for next World Cup qualifier.txt',\n",
       " '4_Park Byung-ho hits large homer on ‘Park Byung-ho Day’.txt',\n",
       " '3_Oh Seung-hwan Could Lose Contract Over Gambling Scandal.txt',\n",
       " '6_BVB has initially without full-back Joo-Ho Park.txt',\n",
       " '7_Swansea City midfielder Ki Sung-Yueng says confidence will not be dented by Arsenal defeat.txt',\n",
       " '8_Tottenham vs Southampton player ratings Heung-min Son shines but Ryan Mason disappoints.txt',\n",
       " '4_Minnesota’s Park Byung-ho hits 7th homer of the season.txt',\n",
       " \"1_Mariners' Lee Dae-ho belts a walk-off homer.txt\",\n",
       " '5_Follow the action live as Augsburg welcome the visit of Stuttgart on Saturday.txt',\n",
       " '2_Dodgers will take it slowly with pitcher Hyun-Jin Ryu, whose health could be a key to their season.txt',\n",
       " '2_Dodgers left with questions after latest Hyun-Jin Ryu setback.txt',\n",
       " '6_AFC 2018 World Cup Qualifying South Korea vs Lebanon, Preview, Prediction & Predicted Lineup.txt',\n",
       " '2_Dodgers left-hander Hyun-Jin Ryu expects to be ready for start of season.txt',\n",
       " '7_Swansea City midfielder Ki Sung-Yueng demands immediate improvement.txt',\n",
       " '3_Korean reliever Seung-hwan Oh has the best nickname for a closer.txt',\n",
       " '3_Lim Chang-yong, Oh Seung-hwan to be suspended from 50% of games even if they return.txt',\n",
       " '5_Koo Ja-cheol Nets a Hat Trick for Augsburg.txt',\n",
       " '7_Ki Sung-yueng Scores 2nd Goal for Swansea in 4 Months.txt',\n",
       " '2_Ryu Hyun-jin suffers injury in groin, further delays return.txt',\n",
       " '2_Hyun-Jin Ryu downplays long break between bullpen sessions.txt',\n",
       " '1_Mariners’ Lee Dae-ho gets 1st two-hit game, double.txt',\n",
       " '4_BYUNG-HO PARK SETTLING IN TO AMERICAN GAME.txt',\n",
       " '1_Lee Dae-ho to Start Spring Training in Arizona.txt',\n",
       " \"5_Stielike warns it won't be easy for Euro-stars.txt\",\n",
       " '3_SEUNG-HWAN OH TOSSES CLEAN INNING VERSUS BOSTON.txt',\n",
       " '2_Los Angeles Dodgers’ Hyun-Jin Ryu Experiencing Shoulder Discomfort.txt',\n",
       " '6_Joo-Ho Park poor for Borussia Dortmund in loss at Cologne.txt',\n",
       " '1_Lee Dae-ho wins MVP in Japan Series.txt',\n",
       " '1_Lee Dae-ho Announces MLB Aspirations.txt',\n",
       " '6_Son Heung-min, Park Joo-ho Set to Start for New Clubs.txt',\n",
       " '1_SoftBank Hawks Hope to Renew Contract with Lee Dae-ho.txt',\n",
       " '3_Free agent closer Seung-hwan Oh under investigation for gambling.txt',\n",
       " '8_Top five matchups in 2018 AFC World Cup final round qualification.txt',\n",
       " \"4_Byung Ho Park went 1-for-4 with a solo homer in Saturday's 4-1 loss to the Tigers..txt\",\n",
       " '5_Augsburg vs Stuttgart Bundesliga Match Preview and Kick-Off Time.txt',\n",
       " \"8_Who Should Be Tottenham Hotspur's No. 1 Summer Transfer Target.txt\",\n",
       " '5_Augsburg midfielder Koo Ja-cheol scores 3 hat tricks at home game.txt',\n",
       " \"2_Hyun-Jin Ryu's timetable starting to become clear.txt\",\n",
       " '2_Ryu Hyun-jin appears before fans after 3-month hiatus for rehabilitation.txt',\n",
       " \"8_Heung Min Son prefers Tottenham's busy fixture list to winter break.txt\",\n",
       " '7_Ki Sung-Yueng back in Swansea City fold as Garry Monk targets victory over benchmark club Everton.txt',\n",
       " '3_Seung-hwan Oh off to a great start.txt',\n",
       " '6_Borussia Dortmund vs. Wolfsburg Team News, Preview, Live Stream, TV Info.txt',\n",
       " \"6_Park Joo-ho delivers top performance in Dortmund's late Europa victory.txt\",\n",
       " '3_Cleveland Indians interested in South Korean reliever Seung-hwan Oh.txt',\n",
       " '7_Swansea win the perfect tonic for weary Sunderland.txt',\n",
       " \"4_Twins' slugger Byung Ho Park adapts to high heat.txt\",\n",
       " '2_Dodgers unsure when Hyun-Jin Ryu will throw another bullpen session.txt']"
      ]
     },
     "execution_count": 3,
     "metadata": {},
     "output_type": "execute_result"
    }
   ],
   "source": [
    "get_file_list('news_data')"
   ]
  },
  {
   "cell_type": "code",
   "execution_count": 4,
   "metadata": {},
   "outputs": [],
   "source": [
    "dir_name = 'news_data'"
   ]
  },
  {
   "cell_type": "code",
   "execution_count": 5,
   "metadata": {},
   "outputs": [],
   "source": [
    "file_list = get_file_list(dir_name)"
   ]
  },
  {
   "cell_type": "code",
   "execution_count": 6,
   "metadata": {},
   "outputs": [],
   "source": [
    "file_list = [os.path.join(dir_name, file_name) for file_name in file_list]"
   ]
  },
  {
   "cell_type": "code",
   "execution_count": 7,
   "metadata": {
    "scrolled": true
   },
   "outputs": [
    {
     "data": {
      "text/plain": [
       "['news_data/3_SEUNG-HWAN OH SHUTS DOWN TWINS IN FIRST SPRING ACTION.txt',\n",
       " 'news_data/1_MLB Team Interested In Dae-Ho Lee.txt',\n",
       " \"news_data/4_Twins' Park Byung-ho hits first big league triple.txt\",\n",
       " 'news_data/7_Swansea City midfielder Ki Sung-Yueng will miss Crystal Palace clash.txt',\n",
       " 'news_data/7_Premier League 2015-2016 Swansea City vs Manchester City, Preview, Prediction & Predicted Lineup.txt',\n",
       " 'news_data/8_Heung Min Son gives Tottenham a two-goal advantage vs Chelsea.txt',\n",
       " \"news_data/5_Injured midfielder likely to miss nat'l team friendlies.txt\",\n",
       " 'news_data/8_Has Heung Min Son Done Enough to Justify 22m Transfer.txt',\n",
       " 'news_data/7_Sung-yueng In Team Of The Week.txt',\n",
       " 'news_data/3_SEUNG-HWAN OH STRIKES OUT THE SIDE.txt',\n",
       " 'news_data/3_Seung Hwan Oh Arrives Early To Cardinals Spring Training Camp.txt',\n",
       " \"news_data/8_South Korea coach has a warning for Tottenham Hotspur's Heung-min Son and fellow internationals, suggests they should consider exits.txt\",\n",
       " \"news_data/1_Seattle Mariners' Newest Signing Dae-Ho Lee Could Become Fan Favorite.txt\",\n",
       " 'news_data/2_Ryu Hyun-jin Rejoins Dodgers After Surgery.txt',\n",
       " 'news_data/8_South Korea are waiting to hear if Tottenham will clear Son Heung-min for the Olympics, according to the forward..txt',\n",
       " \"news_data/6_Mkhitaryan, Hummels perfect 10s in Dortmund's win at Gladbach.txt\",\n",
       " \"news_data/8_Heung Min Son doubles Tottenham's lead over Chelsea.txt\",\n",
       " 'news_data/8_Heung min Son Believes Injury Tainted Debut at Tottenham.txt',\n",
       " 'news_data/6_Borussia Dortmund sign Korea defender Park Joo-ho from Mainz.txt',\n",
       " \"news_data/4_Byung-Ho Park Won't Fix The Minnesota Twins.txt\",\n",
       " 'news_data/7_Ki Sung-yueng Stretchered Off Pitch with Head Injury.txt',\n",
       " 'news_data/6_International South Korean Joo Ho Park, is committed to Borussia Dortmund on Saturday..txt',\n",
       " \"news_data/4_Byung-ho Park's homers are the best thing about the Twins so far.txt\",\n",
       " 'news_data/4_Twins’ Byung Ho Park Still Getting Accustomed To American Life.txt',\n",
       " 'news_data/5_ S. Korea look well-positioned to qualify for 2018 World Cup.txt',\n",
       " 'news_data/6_Thomas Tuchel mulls Park Joo-ho dilemma on Borussia Dortmund`s record run.txt',\n",
       " 'news_data/1_Dae-Ho Lee walk-off homer gives Mariners 4-2 win over Rangers.txt',\n",
       " 'news_data/7_Swansea City midfielder Ki Sung-Yueng wary of Arsenal threat.txt',\n",
       " 'news_data/1_Korean First Baseman Dae-Ho Lee Becomes Free Agent, Interested In MLB Deal.txt',\n",
       " 'news_data/4_Park remains on bench as Twins face Gonzalez and the Nats.txt',\n",
       " 'news_data/5_South Korean Footballer Koo Ja Cheol Returns To Augsburg, Says He Has the ‘Feeling of Coming Home’.txt',\n",
       " 'news_data/5_Korean Footballers in Europe Struggle for Match Time.txt',\n",
       " 'news_data/5_S. Korean MF Koo Ja-cheol suspended for next World Cup qualifier.txt',\n",
       " 'news_data/4_Park Byung-ho hits large homer on ‘Park Byung-ho Day’.txt',\n",
       " 'news_data/3_Oh Seung-hwan Could Lose Contract Over Gambling Scandal.txt',\n",
       " 'news_data/6_BVB has initially without full-back Joo-Ho Park.txt',\n",
       " 'news_data/7_Swansea City midfielder Ki Sung-Yueng says confidence will not be dented by Arsenal defeat.txt',\n",
       " 'news_data/8_Tottenham vs Southampton player ratings Heung-min Son shines but Ryan Mason disappoints.txt',\n",
       " 'news_data/4_Minnesota’s Park Byung-ho hits 7th homer of the season.txt',\n",
       " \"news_data/1_Mariners' Lee Dae-ho belts a walk-off homer.txt\",\n",
       " 'news_data/5_Follow the action live as Augsburg welcome the visit of Stuttgart on Saturday.txt',\n",
       " 'news_data/2_Dodgers will take it slowly with pitcher Hyun-Jin Ryu, whose health could be a key to their season.txt',\n",
       " 'news_data/2_Dodgers left with questions after latest Hyun-Jin Ryu setback.txt',\n",
       " 'news_data/6_AFC 2018 World Cup Qualifying South Korea vs Lebanon, Preview, Prediction & Predicted Lineup.txt',\n",
       " 'news_data/2_Dodgers left-hander Hyun-Jin Ryu expects to be ready for start of season.txt',\n",
       " 'news_data/7_Swansea City midfielder Ki Sung-Yueng demands immediate improvement.txt',\n",
       " 'news_data/3_Korean reliever Seung-hwan Oh has the best nickname for a closer.txt',\n",
       " 'news_data/3_Lim Chang-yong, Oh Seung-hwan to be suspended from 50% of games even if they return.txt',\n",
       " 'news_data/5_Koo Ja-cheol Nets a Hat Trick for Augsburg.txt',\n",
       " 'news_data/7_Ki Sung-yueng Scores 2nd Goal for Swansea in 4 Months.txt',\n",
       " 'news_data/2_Ryu Hyun-jin suffers injury in groin, further delays return.txt',\n",
       " 'news_data/2_Hyun-Jin Ryu downplays long break between bullpen sessions.txt',\n",
       " 'news_data/1_Mariners’ Lee Dae-ho gets 1st two-hit game, double.txt',\n",
       " 'news_data/4_BYUNG-HO PARK SETTLING IN TO AMERICAN GAME.txt',\n",
       " 'news_data/1_Lee Dae-ho to Start Spring Training in Arizona.txt',\n",
       " \"news_data/5_Stielike warns it won't be easy for Euro-stars.txt\",\n",
       " 'news_data/3_SEUNG-HWAN OH TOSSES CLEAN INNING VERSUS BOSTON.txt',\n",
       " 'news_data/2_Los Angeles Dodgers’ Hyun-Jin Ryu Experiencing Shoulder Discomfort.txt',\n",
       " 'news_data/6_Joo-Ho Park poor for Borussia Dortmund in loss at Cologne.txt',\n",
       " 'news_data/1_Lee Dae-ho wins MVP in Japan Series.txt',\n",
       " 'news_data/1_Lee Dae-ho Announces MLB Aspirations.txt',\n",
       " 'news_data/6_Son Heung-min, Park Joo-ho Set to Start for New Clubs.txt',\n",
       " 'news_data/1_SoftBank Hawks Hope to Renew Contract with Lee Dae-ho.txt',\n",
       " 'news_data/3_Free agent closer Seung-hwan Oh under investigation for gambling.txt',\n",
       " 'news_data/8_Top five matchups in 2018 AFC World Cup final round qualification.txt',\n",
       " \"news_data/4_Byung Ho Park went 1-for-4 with a solo homer in Saturday's 4-1 loss to the Tigers..txt\",\n",
       " 'news_data/5_Augsburg vs Stuttgart Bundesliga Match Preview and Kick-Off Time.txt',\n",
       " \"news_data/8_Who Should Be Tottenham Hotspur's No. 1 Summer Transfer Target.txt\",\n",
       " 'news_data/5_Augsburg midfielder Koo Ja-cheol scores 3 hat tricks at home game.txt',\n",
       " \"news_data/2_Hyun-Jin Ryu's timetable starting to become clear.txt\",\n",
       " 'news_data/2_Ryu Hyun-jin appears before fans after 3-month hiatus for rehabilitation.txt',\n",
       " \"news_data/8_Heung Min Son prefers Tottenham's busy fixture list to winter break.txt\",\n",
       " 'news_data/7_Ki Sung-Yueng back in Swansea City fold as Garry Monk targets victory over benchmark club Everton.txt',\n",
       " 'news_data/3_Seung-hwan Oh off to a great start.txt',\n",
       " 'news_data/6_Borussia Dortmund vs. Wolfsburg Team News, Preview, Live Stream, TV Info.txt',\n",
       " \"news_data/6_Park Joo-ho delivers top performance in Dortmund's late Europa victory.txt\",\n",
       " 'news_data/3_Cleveland Indians interested in South Korean reliever Seung-hwan Oh.txt',\n",
       " 'news_data/7_Swansea win the perfect tonic for weary Sunderland.txt',\n",
       " \"news_data/4_Twins' slugger Byung Ho Park adapts to high heat.txt\",\n",
       " 'news_data/2_Dodgers unsure when Hyun-Jin Ryu will throw another bullpen session.txt']"
      ]
     },
     "execution_count": 7,
     "metadata": {},
     "output_type": "execute_result"
    }
   ],
   "source": [
    "file_list"
   ]
  },
  {
   "cell_type": "code",
   "execution_count": 8,
   "metadata": {},
   "outputs": [],
   "source": [
    "def get_contents(file_list):\n",
    "    y_class = []\n",
    "    x_text = []\n",
    "    class_dict = {1: '0', 2: '0', 3: '0', 4: '0', 5: '1', 6: '1', 7: '1', 8: '1'}\n",
    "    for file_name in file_list:\n",
    "        try:\n",
    "            with open(file_name, 'r', encoding='utf8') as f:\n",
    "                category = int(file_name.split(os.sep)[1].split('_')[0])\n",
    "                y_class.append(class_dict[category])\n",
    "                x_text.append(f.read())\n",
    "            f.close()\n",
    "        except UnicodeDecodeError as e:\n",
    "            print(e)\n",
    "            print(file_name)\n",
    "    return x_text, y_class"
   ]
  },
  {
   "cell_type": "code",
   "execution_count": 12,
   "metadata": {},
   "outputs": [
    {
     "ename": "NameError",
     "evalue": "name 'file' is not defined",
     "output_type": "error",
     "traceback": [
      "\u001b[0;31m---------------------------------------------------------------------------\u001b[0m",
      "\u001b[0;31mNameError\u001b[0m                                 Traceback (most recent call last)",
      "\u001b[0;32m<ipython-input-12-6b1fd2a54971>\u001b[0m in \u001b[0;36m<module>\u001b[0;34m\u001b[0m\n\u001b[0;32m----> 1\u001b[0;31m \u001b[0mget_contents\u001b[0m\u001b[0;34m(\u001b[0m\u001b[0mfile_list\u001b[0m\u001b[0;34m)\u001b[0m\u001b[0;34m\u001b[0m\u001b[0;34m\u001b[0m\u001b[0m\n\u001b[0m",
      "\u001b[0;32m<ipython-input-8-78e9330d6e54>\u001b[0m in \u001b[0;36mget_contents\u001b[0;34m(file_list)\u001b[0m\n\u001b[1;32m      5\u001b[0m     \u001b[0;32mfor\u001b[0m \u001b[0mfile_name\u001b[0m \u001b[0;32min\u001b[0m \u001b[0mfile_list\u001b[0m\u001b[0;34m:\u001b[0m\u001b[0;34m\u001b[0m\u001b[0;34m\u001b[0m\u001b[0m\n\u001b[1;32m      6\u001b[0m         \u001b[0;32mtry\u001b[0m\u001b[0;34m:\u001b[0m\u001b[0;34m\u001b[0m\u001b[0;34m\u001b[0m\u001b[0m\n\u001b[0;32m----> 7\u001b[0;31m             \u001b[0;32mwith\u001b[0m \u001b[0mopen\u001b[0m\u001b[0;34m(\u001b[0m\u001b[0mfile\u001b[0m\u001b[0;34m,\u001b[0m \u001b[0;34m'r'\u001b[0m\u001b[0;34m,\u001b[0m \u001b[0mencoding\u001b[0m\u001b[0;34m=\u001b[0m\u001b[0;34m'utf8'\u001b[0m\u001b[0;34m)\u001b[0m \u001b[0;32mas\u001b[0m \u001b[0mf\u001b[0m\u001b[0;34m:\u001b[0m\u001b[0;34m\u001b[0m\u001b[0;34m\u001b[0m\u001b[0m\n\u001b[0m\u001b[1;32m      8\u001b[0m                 \u001b[0mcategory\u001b[0m \u001b[0;34m=\u001b[0m \u001b[0mint\u001b[0m\u001b[0;34m(\u001b[0m\u001b[0mfile_name\u001b[0m\u001b[0;34m.\u001b[0m\u001b[0msplit\u001b[0m\u001b[0;34m(\u001b[0m\u001b[0mos\u001b[0m\u001b[0;34m.\u001b[0m\u001b[0msep\u001b[0m\u001b[0;34m)\u001b[0m\u001b[0;34m[\u001b[0m\u001b[0;36m1\u001b[0m\u001b[0;34m]\u001b[0m\u001b[0;34m.\u001b[0m\u001b[0msplit\u001b[0m\u001b[0;34m(\u001b[0m\u001b[0;34m'_'\u001b[0m\u001b[0;34m)\u001b[0m\u001b[0;34m[\u001b[0m\u001b[0;36m0\u001b[0m\u001b[0;34m]\u001b[0m\u001b[0;34m)\u001b[0m\u001b[0;34m\u001b[0m\u001b[0;34m\u001b[0m\u001b[0m\n\u001b[1;32m      9\u001b[0m                 \u001b[0my_class\u001b[0m\u001b[0;34m.\u001b[0m\u001b[0mappend\u001b[0m\u001b[0;34m(\u001b[0m\u001b[0mclass_dict\u001b[0m\u001b[0;34m[\u001b[0m\u001b[0mcategory\u001b[0m\u001b[0;34m]\u001b[0m\u001b[0;34m)\u001b[0m\u001b[0;34m\u001b[0m\u001b[0;34m\u001b[0m\u001b[0m\n",
      "\u001b[0;31mNameError\u001b[0m: name 'file' is not defined"
     ]
    }
   ],
   "source": [
    "get_contents(file_list)"
   ]
  },
  {
   "cell_type": "code",
   "execution_count": null,
   "metadata": {},
   "outputs": [],
   "source": []
  }
 ],
 "metadata": {
  "kernelspec": {
   "display_name": "Python 3.8.3 64-bit",
   "language": "python",
   "name": "python38364bit7dfa4987a5f7442ebd81ff5dfdf02ba8"
  },
  "language_info": {
   "codemirror_mode": {
    "name": "ipython",
    "version": 3
   },
   "file_extension": ".py",
   "mimetype": "text/x-python",
   "name": "python",
   "nbconvert_exporter": "python",
   "pygments_lexer": "ipython3",
   "version": "3.8.3"
  }
 },
 "nbformat": 4,
 "nbformat_minor": 4
}
